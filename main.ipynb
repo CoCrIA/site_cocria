{
 "cells": [
  {
   "cell_type": "code",
   "execution_count": null,
   "metadata": {},
   "outputs": [],
   "source": [
    "import pandas as pd\n",
    "from flask import Flask, render_template, request\n",
    "\n",
    "app = Flask(__name__)\n",
    "\n",
    "# Carregar a planilha Excel usando o Pandas\n",
    "df = pd.read_excel('contatos.xlsx')\n",
    "\n",
    "@app.route('/')\n",
    "def index():\n",
    "    return render_template('index.html', show_back_button=False)\n",
    "\n",
    "@app.route('/search', methods=['POST'])\n",
    "def search():\n",
    "    search_query = request.form['search_query']\n",
    "    \n",
    "    # Realizar a busca na planilha usando o Pandas\n",
    "    matching_data = df[df['nome'].str.contains(search_query, case=False)]\n",
    "    \n",
    "    matching_results = []\n",
    "    for index, row in matching_data.iterrows():\n",
    "        matching_results.append((row['nome'], row['telefone']))\n",
    "    \n",
    "    return render_template('search_results.html', query=search_query, results=matching_results, show_back_button=True)\n",
    "\n",
    "if __name__ == '__main__':\n",
    "    app.run()\n"
   ]
  }
 ],
 "metadata": {
  "kernelspec": {
   "display_name": "Python 3",
   "language": "python",
   "name": "python3"
  },
  "language_info": {
   "codemirror_mode": {
    "name": "ipython",
    "version": 3
   },
   "file_extension": ".py",
   "mimetype": "text/x-python",
   "name": "python",
   "nbconvert_exporter": "python",
   "pygments_lexer": "ipython3",
   "version": "3.11.4"
  },
  "orig_nbformat": 4
 },
 "nbformat": 4,
 "nbformat_minor": 2
}
